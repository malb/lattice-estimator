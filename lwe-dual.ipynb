{
 "cells": [
  {
   "cell_type": "markdown",
   "id": "d03bc21a",
   "metadata": {},
   "source": [
    "Notebook created: 2024-11-20 08:38:34  \n",
    "Generated from: docs/algorithms/lwe-dual.rst  "
   ]
  },
  {
   "cell_type": "markdown",
   "id": "b6a082e2",
   "metadata": {},
   "source": [
    "\n",
    "<a id='lwe-dual-attacks'></a>"
   ]
  },
  {
   "cell_type": "markdown",
   "id": "9579a350",
   "metadata": {},
   "source": [
    "# LWE Dual Attacks\n",
    "\n",
    "We construct an (easy) example LWE instance:"
   ]
  },
  {
   "cell_type": "code",
   "execution_count": null,
   "id": "43a758a2",
   "metadata": {
    "hide-output": false
   },
   "outputs": [],
   "source": [
    "from estimator import *\n",
    "from estimator.lwe_dual import dual_hybrid, matzov\n",
    "params = LWE.Parameters(n=200, q=7981, Xs=ND.SparseTernary(16), Xe=ND.CenteredBinomial(4))\n",
    "params"
   ]
  },
  {
   "cell_type": "markdown",
   "id": "faa2ee87",
   "metadata": {},
   "source": [
    "The simplest (and quickest to estimate) algorithm is the “plain” dual attack as described in [[PQCBook:MicReg09]](../references.ipynb#pqcbook-micreg09):"
   ]
  },
  {
   "cell_type": "code",
   "execution_count": null,
   "id": "3899e083",
   "metadata": {
    "hide-output": false
   },
   "outputs": [],
   "source": [
    "LWE.dual(params)"
   ]
  },
  {
   "cell_type": "markdown",
   "id": "1750ccb4",
   "metadata": {},
   "source": [
    "We can improve these results by considering a dual hybrid attack as in [[EC:Albrecht17]](../references.ipynb#ec-albrecht17), [[INDOCRYPT:EspJouKha20]](../references.ipynb#indocrypt-espjoukha20):"
   ]
  },
  {
   "cell_type": "code",
   "execution_count": null,
   "id": "ce9fe4da",
   "metadata": {
    "hide-output": false
   },
   "outputs": [],
   "source": [
    "dual_hybrid(params)"
   ]
  },
  {
   "cell_type": "markdown",
   "id": "9b461f0b",
   "metadata": {},
   "source": [
    "Further improvements are possible using a meet-in-the-middle approach [[IEEE:CHHS19]](../references.ipynb#ieee-chhs19):"
   ]
  },
  {
   "cell_type": "code",
   "execution_count": null,
   "id": "c50454b5",
   "metadata": {
    "hide-output": false
   },
   "outputs": [],
   "source": [
    "dual_hybrid(params, mitm_optimization=True)"
   ]
  },
  {
   "cell_type": "markdown",
   "id": "e4bf6b9a",
   "metadata": {},
   "source": [
    "We consider the variant from [[MATZOV22]](../references.ipynb#matzov22):"
   ]
  },
  {
   "cell_type": "code",
   "execution_count": null,
   "id": "b98e5665",
   "metadata": {
    "hide-output": false
   },
   "outputs": [],
   "source": [
    "matzov(params)"
   ]
  }
 ],
 "metadata": {
  "date": 1732091914.3069305,
  "filename": "lwe-dual.rst",
  "kernelspec": {
   "display_name": "SageMath",
   "language": "sage",
   "name": "sagemath"
  },
  "title": "LWE Dual Attacks"
 },
 "nbformat": 4,
 "nbformat_minor": 5
}