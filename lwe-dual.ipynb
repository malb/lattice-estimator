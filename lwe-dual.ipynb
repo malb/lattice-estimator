{
 "cells": [
  {
   "cell_type": "markdown",
   "id": "4ffa2050",
   "metadata": {},
   "source": [
    "Notebook created: 2025-04-17 15:12:53  \n",
    "Generated from: docs/algorithms/lwe-dual.rst  "
   ]
  },
  {
   "cell_type": "markdown",
   "id": "96cdb984",
   "metadata": {},
   "source": [
    "\n",
    "<a id='lwe-dual-attacks'></a>"
   ]
  },
  {
   "cell_type": "markdown",
   "id": "737a00da",
   "metadata": {},
   "source": [
    "# LWE Dual Attacks\n",
    "\n",
    "We construct an (easy) example LWE instance:"
   ]
  },
  {
   "cell_type": "code",
   "execution_count": null,
   "id": "1f4a0d48",
   "metadata": {
    "hide-output": false
   },
   "outputs": [],
   "source": [
    "from estimator import *\n",
    "from estimator.lwe_dual import dual_hybrid, matzov\n",
    "params = LWE.Parameters(n=200, q=7981, Xs=ND.SparseTernary(16), Xe=ND.CenteredBinomial(4))\n",
    "params"
   ]
  },
  {
   "cell_type": "markdown",
   "id": "129fe5d6",
   "metadata": {},
   "source": [
    "The simplest (and quickest to estimate) algorithm is the “plain” dual attack as described in [[PQCBook:MicReg09]](../references.ipynb#pqcbook-micreg09):"
   ]
  },
  {
   "cell_type": "code",
   "execution_count": null,
   "id": "9f4ecf2c",
   "metadata": {
    "hide-output": false
   },
   "outputs": [],
   "source": [
    "LWE.dual(params)"
   ]
  },
  {
   "cell_type": "markdown",
   "id": "c2db6552",
   "metadata": {},
   "source": [
    "We can improve these results by considering a dual hybrid attack as in [[EC:Albrecht17]](../references.ipynb#ec-albrecht17), [[INDOCRYPT:EspJouKha20]](../references.ipynb#indocrypt-espjoukha20):"
   ]
  },
  {
   "cell_type": "code",
   "execution_count": null,
   "id": "cbc55d24",
   "metadata": {
    "hide-output": false
   },
   "outputs": [],
   "source": [
    "dual_hybrid(params)"
   ]
  },
  {
   "cell_type": "markdown",
   "id": "911ba212",
   "metadata": {},
   "source": [
    "Further improvements are possible using a meet-in-the-middle approach [[IEEE:CHHS19]](../references.ipynb#ieee-chhs19):"
   ]
  },
  {
   "cell_type": "code",
   "execution_count": null,
   "id": "1005f2c8",
   "metadata": {
    "hide-output": false
   },
   "outputs": [],
   "source": [
    "dual_hybrid(params, mitm_optimization=True)"
   ]
  },
  {
   "cell_type": "markdown",
   "id": "08dd4cb0",
   "metadata": {},
   "source": [
    "We consider the variant from [[MATZOV22]](../references.ipynb#matzov22):"
   ]
  },
  {
   "cell_type": "code",
   "execution_count": null,
   "id": "51d9ca1c",
   "metadata": {
    "hide-output": false
   },
   "outputs": [],
   "source": [
    "matzov(params)"
   ]
  }
 ],
 "metadata": {
  "date": 1744902773.8989584,
  "filename": "lwe-dual.rst",
  "kernelspec": {
   "display_name": "SageMath",
   "language": "sage",
   "name": "sagemath"
  },
  "title": "LWE Dual Attacks"
 },
 "nbformat": 4,
 "nbformat_minor": 5
}