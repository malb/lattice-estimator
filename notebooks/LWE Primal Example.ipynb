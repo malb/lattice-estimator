{
 "cells": [
  {
   "cell_type": "markdown",
   "id": "734eb755",
   "metadata": {},
   "source": [
    "# Estimator Walkthrough\n",
    "\n",
    "\n",
    "We estimate the cost of solving LWE using primal attacks. We start by importing the estimator."
   ]
  },
  {
   "cell_type": "code",
   "execution_count": null,
   "id": "1fd90bed",
   "metadata": {},
   "outputs": [],
   "source": [
    "import sys\n",
    "sys.path.append(\"..\")\n",
    "from estimator import *"
   ]
  },
  {
   "cell_type": "markdown",
   "id": "b991acd8",
   "metadata": {},
   "source": [
    "We enable extensive logging"
   ]
  },
  {
   "cell_type": "code",
   "execution_count": null,
   "id": "b0426d94",
   "metadata": {},
   "outputs": [],
   "source": [
    "Logging.set_level(Logging.LEVEL5)"
   ]
  },
  {
   "cell_type": "markdown",
   "id": "cd3d54a6",
   "metadata": {},
   "source": [
    "We construct an example LWE instance"
   ]
  },
  {
   "cell_type": "code",
   "execution_count": null,
   "id": "f2742b56",
   "metadata": {
    "scrolled": true
   },
   "outputs": [],
   "source": [
    "params = LWEParameters(n=384, q=7981, Xs=ND.SparseTernary(384, 16), Xe=ND.CentredBinomial(4))\n",
    "params"
   ]
  },
  {
   "cell_type": "markdown",
   "id": "55a4664d",
   "metadata": {},
   "source": [
    "The simplest (and quickest to estimate) model is solving via uSVP and assuming the Geometric Series\n",
    "Assumption (GSA)"
   ]
  },
  {
   "cell_type": "code",
   "execution_count": null,
   "id": "307c6cb0",
   "metadata": {},
   "outputs": [],
   "source": [
    "primal_usvp(params, red_shape_model=\"gsa\")"
   ]
  },
  {
   "cell_type": "markdown",
   "id": "5c236fc1",
   "metadata": {},
   "source": [
    "We get a similar result if we use the ``GSA`` simulator. We do not get the identical result because\n",
    "we optimize β and d separately"
   ]
  },
  {
   "cell_type": "code",
   "execution_count": null,
   "id": "96779f79",
   "metadata": {},
   "outputs": [],
   "source": [
    "primal_usvp(params, red_shape_model=Simulator.GSA)"
   ]
  },
  {
   "cell_type": "markdown",
   "id": "cbd37cbb",
   "metadata": {},
   "source": [
    "To get a more precise answer we may use the CN11 simulator"
   ]
  },
  {
   "cell_type": "code",
   "execution_count": null,
   "id": "b851179e",
   "metadata": {},
   "outputs": [],
   "source": [
    "primal_usvp(params, red_shape_model=Simulator.CN11)"
   ]
  },
  {
   "cell_type": "markdown",
   "id": "992245d6",
   "metadata": {},
   "source": [
    "We can then improve on this result by first preprocessing the basis with blocksize β followed by a\n",
    "single SVP call in dimension η. We call this the BDD approach since this is essentially the same\n",
    "strategy as preprocessing a basis and then running a CVP solver"
   ]
  },
  {
   "cell_type": "code",
   "execution_count": null,
   "id": "355f8fca",
   "metadata": {},
   "outputs": [],
   "source": [
    "primal_bdd(params, red_shape_model=Simulator.CN11)"
   ]
  },
  {
   "cell_type": "markdown",
   "id": "a27cf449",
   "metadata": {},
   "source": [
    "We can improve these results further by exploiting the sparse secret in the hybrid attack, guessing ζ\n",
    "positions of the secret"
   ]
  },
  {
   "cell_type": "code",
   "execution_count": null,
   "id": "a1eae129",
   "metadata": {},
   "outputs": [],
   "source": [
    "primal_hybrid(params, red_shape_model=Simulator.CN11)"
   ]
  },
  {
   "cell_type": "code",
   "execution_count": null,
   "id": "fabd0f8e",
   "metadata": {},
   "outputs": [],
   "source": []
  }
 ],
 "metadata": {
  "kernelspec": {
   "display_name": "SageMath 9.2",
   "language": "sage",
   "name": "sagemath"
  },
  "language_info": {
   "codemirror_mode": {
    "name": "ipython",
    "version": 3
   },
   "file_extension": ".py",
   "mimetype": "text/x-python",
   "name": "python",
   "nbconvert_exporter": "python",
   "pygments_lexer": "ipython3",
   "version": "3.9.2"
  }
 },
 "nbformat": 4,
 "nbformat_minor": 5
}
