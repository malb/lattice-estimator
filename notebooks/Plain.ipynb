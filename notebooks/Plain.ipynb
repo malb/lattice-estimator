{
 "cells": [
  {
   "cell_type": "markdown",
   "id": "d361a286",
   "metadata": {},
   "source": [
    "# Lattice Estimator\n",
    "\n",
    "https://github.com/malb/lattice-estimator/\n",
    "\n",
    "If you use this estimator in your work, please cite\n",
    "\n",
    "> Martin R. Albrecht, Rachel Player and Sam Scott. *On the concrete hardness of Learning with Errors*. Journal of Mathematical Cryptology. Volume 9, Issue 3, Pages 169â€“203, ISSN (Online) 1862-2984, ISSN (Print) 1862-2976 DOI: 10.1515/jmc-2015-0016, October 2015\n",
    "\n",
    "A pre-print is available as\n",
    "\n",
    "> Cryptology ePrint Archive, Report 2015/046, 2015. https://eprint.iacr.org/2015/046\n",
    "\n",
    "An updated version of the material covered in the above survey is available in\n",
    "[Rachel Player's PhD thesis](https://pure.royalholloway.ac.uk/portal/files/29983580/2018playerrphd.pdf)."
   ]
  },
  {
   "cell_type": "code",
   "execution_count": 1,
   "id": "1fd90bed",
   "metadata": {},
   "outputs": [],
   "source": [
    "# set paths\n",
    "import sys\n",
    "sys.path.append(\"..\")\n",
    "\n",
    "# import\n",
    "from estimator import *"
   ]
  },
  {
   "cell_type": "code",
   "execution_count": null,
   "id": "b0426d94",
   "metadata": {},
   "outputs": [],
   "source": [
    "Logging.set_level(Logging.LEVEL0)"
   ]
  },
  {
   "cell_type": "code",
   "execution_count": null,
   "id": "94689e56",
   "metadata": {},
   "outputs": [],
   "source": []
  }
 ],
 "metadata": {
  "kernelspec": {
   "display_name": "SageMath 9.2",
   "language": "sage",
   "name": "sagemath"
  },
  "language_info": {
   "codemirror_mode": {
    "name": "ipython",
    "version": 3
   },
   "file_extension": ".py",
   "mimetype": "text/x-python",
   "name": "python",
   "nbconvert_exporter": "python",
   "pygments_lexer": "ipython3",
   "version": "3.9.2"
  }
 },
 "nbformat": 4,
 "nbformat_minor": 5
}
