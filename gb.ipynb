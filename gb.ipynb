{
 "cells": [
  {
   "cell_type": "markdown",
   "id": "8dd9edfc",
   "metadata": {},
   "source": [
    "Notebook created: 2025-04-17 14:54:42  \n",
    "Generated from: docs/algorithms/gb.rst  "
   ]
  },
  {
   "cell_type": "markdown",
   "id": "664d23b0",
   "metadata": {},
   "source": [
    "\n",
    "<a id='arora-gb'></a>"
   ]
  },
  {
   "cell_type": "markdown",
   "id": "9486eb41",
   "metadata": {},
   "source": [
    "# Arora-GB\n",
    "\n",
    "We construct an (easy) example LWE instance and estimate the cost of solving it using Gröbner bases as described in [[ICALP:AroGe11]](../_apidoc/estimator.gb/estimator.gb.AroraGB.ipynb#icalp-aroge11), [[EPRINT:ACFP14]](../_apidoc/estimator.gb/estimator.gb.AroraGB.ipynb#eprint-acfp14):"
   ]
  },
  {
   "cell_type": "code",
   "execution_count": null,
   "id": "3d14447b",
   "metadata": {
    "hide-output": false
   },
   "outputs": [],
   "source": [
    "from estimator import *\n",
    "params = LWE.Parameters(n=64, q=7681, Xs=ND.DiscreteGaussian(3.0), Xe=ND.DiscreteGaussian(3.0), m=2^50)\n",
    "LWE.arora_gb(params)"
   ]
  },
  {
   "cell_type": "markdown",
   "id": "82b2259b",
   "metadata": {},
   "source": [
    "The cost of this approach – Arora-GB – depends on the number of samples:"
   ]
  },
  {
   "cell_type": "code",
   "execution_count": null,
   "id": "e04e9026",
   "metadata": {
    "hide-output": false
   },
   "outputs": [],
   "source": [
    "LWE.arora_gb(params.updated(m=2^120))"
   ]
  },
  {
   "cell_type": "markdown",
   "id": "554ca769",
   "metadata": {},
   "source": [
    "If the noise distribution is bounded, this bounds the absolute degree and thus cost:"
   ]
  },
  {
   "cell_type": "code",
   "execution_count": null,
   "id": "c60569cb",
   "metadata": {
    "hide-output": false
   },
   "outputs": [],
   "source": [
    "LWE.arora_gb(params.updated(Xe=ND.UniformMod(7)))"
   ]
  },
  {
   "cell_type": "markdown",
   "id": "286331fa",
   "metadata": {},
   "source": [
    "Centered binomial distributions are also bounded:"
   ]
  },
  {
   "cell_type": "code",
   "execution_count": null,
   "id": "1c3280bc",
   "metadata": {
    "hide-output": false
   },
   "outputs": [],
   "source": [
    "LWE.arora_gb(params.updated(Xe=ND.CenteredBinomial(8)))"
   ]
  },
  {
   "cell_type": "markdown",
   "id": "8478d4a0",
   "metadata": {},
   "source": [
    "The secret plays its role, too, in reducing the cost of solving:"
   ]
  },
  {
   "cell_type": "code",
   "execution_count": null,
   "id": "35d5bf14",
   "metadata": {
    "hide-output": false
   },
   "outputs": [],
   "source": [
    "LWE.arora_gb(params.updated(Xs=ND.UniformMod(5), Xe=ND.CenteredBinomial(4), m=1024))"
   ]
  },
  {
   "cell_type": "code",
   "execution_count": null,
   "id": "dd624a8d",
   "metadata": {
    "hide-output": false
   },
   "outputs": [],
   "source": [
    "LWE.arora_gb(params.updated(Xs=ND.UniformMod(3), Xe=ND.CenteredBinomial(4), m=1024))"
   ]
  }
 ],
 "metadata": {
  "date": 1744901682.6852653,
  "filename": "gb.rst",
  "kernelspec": {
   "display_name": "SageMath",
   "language": "sage",
   "name": "sagemath"
  },
  "title": "Arora-GB"
 },
 "nbformat": 4,
 "nbformat_minor": 5
}